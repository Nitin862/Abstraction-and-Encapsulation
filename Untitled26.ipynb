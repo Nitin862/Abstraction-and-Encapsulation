{
 "cells": [
  {
   "cell_type": "code",
   "execution_count": 2,
   "id": "0bbc62fb-0bc8-402d-a744-2c69630d86b0",
   "metadata": {},
   "outputs": [
    {
     "data": {
      "text/plain": [
       "'Q1. What is Abstraction in OOps? Explain with an example.'"
      ]
     },
     "execution_count": 2,
     "metadata": {},
     "output_type": "execute_result"
    }
   ],
   "source": [
    "'''Q1. What is Abstraction in OOps? Explain with an example.'''\n"
   ]
  },
  {
   "cell_type": "code",
   "execution_count": 3,
   "id": "4f9f2f07-6d5c-46c8-991e-d5d34f63527b",
   "metadata": {},
   "outputs": [
    {
     "data": {
      "text/plain": [
       "'Abstraction in Object-Oriented Programming (OOP)\\nAbstraction is a core concept in Object-Oriented Programming (OOP) that focuses on exposing only\\nthe essential features of an object while hiding the unnecessary details. It allows a programmer to use complex systems more simply\\nand intuitively by reducing complexity and increasing efficiency.\\n\\nExample: Smartphone Interface\\nImagine a smartphone as an object. When you use a smartphone, you interact with it through a simple, intuitive interface—like \\ntapping on apps, swiping through screens, or pressing buttons. You can make calls, send messages, take photos, and browse the internet\\nwith ease.\\n\\nHowever, you don\\'t need to know the complex inner workings of the smartphone—like how the touch screen detects your finger, how the \\nsignal is transmitted to make a call, or how the camera processes light to capture an image. These intricate details are \"abstracted\" \\naway from you, the user.\\n\\nIn OOP, this is akin to a class that provides public methods (like makeCall(), sendText(), takePhoto()) for interaction, while the\\ninternal mechanisms (such as signal processing, sensor data handling, etc.) are hidden behind the scenes.'"
      ]
     },
     "execution_count": 3,
     "metadata": {},
     "output_type": "execute_result"
    }
   ],
   "source": [
    "'''Abstraction in Object-Oriented Programming (OOP)\n",
    "Abstraction is a core concept in Object-Oriented Programming (OOP) that focuses on exposing only\n",
    "the essential features of an object while hiding the unnecessary details. It allows a programmer to use complex systems more simply\n",
    "and intuitively by reducing complexity and increasing efficiency.\n",
    "\n",
    "Example: Smartphone Interface\n",
    "Imagine a smartphone as an object. When you use a smartphone, you interact with it through a simple, intuitive interface—like \n",
    "tapping on apps, swiping through screens, or pressing buttons. You can make calls, send messages, take photos, and browse the internet\n",
    "with ease.\n",
    "\n",
    "However, you don't need to know the complex inner workings of the smartphone—like how the touch screen detects your finger, how the \n",
    "signal is transmitted to make a call, or how the camera processes light to capture an image. These intricate details are \"abstracted\" \n",
    "away from you, the user.\n",
    "\n",
    "In OOP, this is akin to a class that provides public methods (like makeCall(), sendText(), takePhoto()) for interaction, while the\n",
    "internal mechanisms (such as signal processing, sensor data handling, etc.) are hidden behind the scenes.'''"
   ]
  },
  {
   "cell_type": "code",
   "execution_count": 4,
   "id": "c866ccde-9a40-492a-a421-8578f183ee92",
   "metadata": {},
   "outputs": [
    {
     "name": "stdout",
     "output_type": "stream",
     "text": [
      "Calling +1234567890...\n",
      "Sending text to +1234567890: Hello, world!\n",
      "Photo taken!\n"
     ]
    }
   ],
   "source": [
    "class Smartphone:\n",
    "    def make_call(self, number):\n",
    "        print(f\"Calling {number}...\")\n",
    "        # Complex logic for connecting a call is hidden\n",
    "        \n",
    "    def send_text(self, number, message):\n",
    "        print(f\"Sending text to {number}: {message}\")\n",
    "        # The process of sending a text is abstracted\n",
    "    \n",
    "    def take_photo(self):\n",
    "        print(\"Photo taken!\")\n",
    "        # The intricacies of image processing are hidden\n",
    "\n",
    "# User interacts with the Smartphone object using simple methods\n",
    "my_phone = Smartphone()\n",
    "my_phone.make_call(\"+1234567890\")\n",
    "my_phone.send_text(\"+1234567890\", \"Hello, world!\")\n",
    "my_phone.take_photo()\n"
   ]
  },
  {
   "cell_type": "code",
   "execution_count": 7,
   "id": "719d646b-6e94-4a0c-bcf2-cc5b420428c2",
   "metadata": {},
   "outputs": [
    {
     "ename": "SyntaxError",
     "evalue": "incomplete input (2672914231.py, line 1)",
     "output_type": "error",
     "traceback": [
      "\u001b[0;36m  Cell \u001b[0;32mIn[7], line 1\u001b[0;36m\u001b[0m\n\u001b[0;31m    '''2. Differentiate between Abstraction and Encapsulation. Explain with an example. with unique answer''\u001b[0m\n\u001b[0m    ^\u001b[0m\n\u001b[0;31mSyntaxError\u001b[0m\u001b[0;31m:\u001b[0m incomplete input\n"
     ]
    }
   ],
   "source": [
    "'''2. Differentiate between Abstraction and Encapsulation. Explain with an example. with unique answer''"
   ]
  },
  {
   "cell_type": "code",
   "execution_count": 8,
   "id": "3a36281b-5f50-47b9-a3ba-b2eeaf8c20c8",
   "metadata": {},
   "outputs": [
    {
     "data": {
      "text/plain": [
       "'1. Abstraction: Hiding Complexity, Revealing Essentials\\nAbstraction is about simplifying complex systems by highlighting the necessary components and hiding irrelevant details.\\nIt focuses on what an object does, not how it does it. Abstraction allows a user to interact with an object\\nwithout needing to understand the complexities of its internal workings.\\n\\nExample: Remote Control\\nConsider a remote control for a TV. When you press the \"power\" button, the TV turns on or off. You don\\'t need to know how the \\ninfrared signals are sent, how the TV receives them, or how the circuits inside the TV respond. All you care about is the simple\\ninterface—pressing the button achieves the desired result.\\n\\nIn programming, abstraction is like creating a class with methods that perform specific actions (like turnOn() or turnOff()),\\nwhile the complex implementation details are hidden inside the class.\\n\\n2. Encapsulation: Bundling Data and Behavior\\nEncapsulation is the practice of bundling the data (attributes) and the methods (behaviors) that operate on that data into a single unit,\\ncalled a class. It also involves restricting access to some of the object\\'s components, which is done through access modifiers like private,\\nprotected, and public. This ensures that the internal state of the object can only be modified in controlled ways.\\n\\nEncapsulation focuses on how the data and methods are organized and safeguarded within the class.\\n\\nExample: Bank Account\\nImagine a bank account system. The class BankAccount might encapsulate attributes like balance and accountNumber, and methods\\nlike deposit() and withdraw(). The balance is kept private so that it cannot be directly modified from outside the class; instead,\\nit can only be changed using the deposit() and withdraw() methods, which include necessary checks and validations.'"
      ]
     },
     "execution_count": 8,
     "metadata": {},
     "output_type": "execute_result"
    }
   ],
   "source": [
    "'''1. Abstraction: Hiding Complexity, Revealing Essentials\n",
    "Abstraction is about simplifying complex systems by highlighting the necessary components and hiding irrelevant details.\n",
    "It focuses on what an object does, not how it does it. Abstraction allows a user to interact with an object\n",
    "without needing to understand the complexities of its internal workings.\n",
    "\n",
    "Example: Remote Control\n",
    "Consider a remote control for a TV. When you press the \"power\" button, the TV turns on or off. You don't need to know how the \n",
    "infrared signals are sent, how the TV receives them, or how the circuits inside the TV respond. All you care about is the simple\n",
    "interface—pressing the button achieves the desired result.\n",
    "\n",
    "In programming, abstraction is like creating a class with methods that perform specific actions (like turnOn() or turnOff()),\n",
    "while the complex implementation details are hidden inside the class.\n",
    "\n",
    "2. Encapsulation: Bundling Data and Behavior\n",
    "Encapsulation is the practice of bundling the data (attributes) and the methods (behaviors) that operate on that data into a single unit,\n",
    "called a class. It also involves restricting access to some of the object's components, which is done through access modifiers like private,\n",
    "protected, and public. This ensures that the internal state of the object can only be modified in controlled ways.\n",
    "\n",
    "Encapsulation focuses on how the data and methods are organized and safeguarded within the class.\n",
    "\n",
    "Example: Bank Account\n",
    "Imagine a bank account system. The class BankAccount might encapsulate attributes like balance and accountNumber, and methods\n",
    "like deposit() and withdraw(). The balance is kept private so that it cannot be directly modified from outside the class; instead,\n",
    "it can only be changed using the deposit() and withdraw() methods, which include necessary checks and validations.'''"
   ]
  },
  {
   "cell_type": "code",
   "execution_count": 9,
   "id": "1ea6f05b-10cd-408c-9acc-dda41949e922",
   "metadata": {},
   "outputs": [
    {
     "name": "stdout",
     "output_type": "stream",
     "text": [
      "1500\n"
     ]
    }
   ],
   "source": [
    "class BankAccount:\n",
    "    def __init__(self, account_number, initial_balance):\n",
    "        self.__account_number = account_number  # Private attribute\n",
    "        self.__balance = initial_balance  # Private attribute\n",
    "    \n",
    "    def deposit(self, amount):\n",
    "        if amount > 0:\n",
    "            self.__balance += amount\n",
    "        else:\n",
    "            print(\"Invalid deposit amount\")\n",
    "    \n",
    "    def withdraw(self, amount):\n",
    "        if 0 < amount <= self.__balance:\n",
    "            self.__balance -= amount\n",
    "        else:\n",
    "            print(\"Invalid or insufficient funds\")\n",
    "    \n",
    "    def get_balance(self):\n",
    "        return self.__balance\n",
    "\n",
    "# Using the encapsulated BankAccount class\n",
    "my_account = BankAccount(\"123456789\", 1000)\n",
    "my_account.deposit(500)\n",
    "print(my_account.get_balance())  # Accessing balance through a controlled method\n"
   ]
  },
  {
   "cell_type": "code",
   "execution_count": 10,
   "id": "e424702e-4fe7-472b-b796-174f3c98dc57",
   "metadata": {},
   "outputs": [
    {
     "data": {
      "text/plain": [
       "'Q3. What is abc module in python? Why is it used?'"
      ]
     },
     "execution_count": 10,
     "metadata": {},
     "output_type": "execute_result"
    }
   ],
   "source": [
    "'''Q3. What is abc module in python? Why is it used?'''\n"
   ]
  },
  {
   "cell_type": "code",
   "execution_count": 11,
   "id": "3f6328cf-2bc4-4ab4-9877-62f5d86dcfd3",
   "metadata": {},
   "outputs": [
    {
     "data": {
      "text/plain": [
       "'The abc module in Python is like a detailed architectural blueprint for coding. It defines an abstract base class with \\nmandatory methods that must be implemented by any derived class.\\n\\nBlueprint (Abstract Base Class): Specifies a common interface or contract.\\nArchitectural Standards (Abstract Methods): Define methods that subclasses must implement.\\nConstruction Teams (Concrete Classes): Build specific implementations based on the blueprint.\\nUsage: Ensures that all subclasses adhere to the same design principles, promoting consistency and interoperability.'"
      ]
     },
     "execution_count": 11,
     "metadata": {},
     "output_type": "execute_result"
    }
   ],
   "source": [
    "'''The abc module in Python is like a detailed architectural blueprint for coding. It defines an abstract base class with \n",
    "mandatory methods that must be implemented by any derived class.\n",
    "\n",
    "Blueprint (Abstract Base Class): Specifies a common interface or contract.\n",
    "Architectural Standards (Abstract Methods): Define methods that subclasses must implement.\n",
    "Construction Teams (Concrete Classes): Build specific implementations based on the blueprint.\n",
    "Usage: Ensures that all subclasses adhere to the same design principles, promoting consistency and interoperability.'''"
   ]
  },
  {
   "cell_type": "code",
   "execution_count": 12,
   "id": "a1073477-1f39-4f3d-8461-4bde028c6c4a",
   "metadata": {},
   "outputs": [
    {
     "data": {
      "text/plain": [
       "'Q4. How can we achieve data abstraction?'"
      ]
     },
     "execution_count": 12,
     "metadata": {},
     "output_type": "execute_result"
    }
   ],
   "source": [
    "'''Q4. How can we achieve data abstraction?'''"
   ]
  },
  {
   "cell_type": "code",
   "execution_count": 13,
   "id": "92bceea7-8064-404d-ba4c-20650d47c7d4",
   "metadata": {},
   "outputs": [
    {
     "data": {
      "text/plain": [
       "\"Abstract Data Types (ADTs): Use classes to define ADTs. For example, \\na stack can be defined with methods like push() and pop() without revealing how it's implemented.\\nEncapsulation: Use private attributes (prefix with _) to hide internal state and provide public methods to interact with the data.\\nInterfaces and Abstract Classes: Use the abc module to define abstract methods that must be implemented by subclasses.\""
      ]
     },
     "execution_count": 13,
     "metadata": {},
     "output_type": "execute_result"
    }
   ],
   "source": [
    "'''Abstract Data Types (ADTs): Use classes to define ADTs. For example, \n",
    "a stack can be defined with methods like push() and pop() without revealing how it's implemented.\n",
    "Encapsulation: Use private attributes (prefix with _) to hide internal state and provide public methods to interact with the data.\n",
    "Interfaces and Abstract Classes: Use the abc module to define abstract methods that must be implemented by subclasses.'''"
   ]
  },
  {
   "cell_type": "code",
   "execution_count": 14,
   "id": "ecf8d10d-ac02-4150-ad1c-4658076ac386",
   "metadata": {},
   "outputs": [],
   "source": [
    "class Stack:\n",
    "    def __init__(self):\n",
    "        self._items = []\n",
    "    \n",
    "    def push(self, item):\n",
    "        self._items.append(item)\n",
    "    \n",
    "    def pop(self):\n",
    "        return self._items.pop()\n",
    "    \n",
    "    def is_empty(self):\n",
    "        return len(self._items) == 0\n"
   ]
  },
  {
   "cell_type": "code",
   "execution_count": 15,
   "id": "b9c03a43-e458-4962-a020-5fb5b6d93509",
   "metadata": {},
   "outputs": [],
   "source": [
    "class BankAccount:\n",
    "    def __init__(self, balance):\n",
    "        self._balance = balance\n",
    "    \n",
    "    def deposit(self, amount):\n",
    "        self._balance += amount\n",
    "    \n",
    "    def withdraw(self, amount):\n",
    "        if amount <= self._balance:\n",
    "            self._balance -= amount\n",
    "        else:\n",
    "            raise ValueError(\"Insufficient funds\")\n",
    "    \n",
    "    def get_balance(self):\n",
    "        return self._balance\n"
   ]
  },
  {
   "cell_type": "code",
   "execution_count": 16,
   "id": "0c2cc772-4351-48d5-9f12-e2a4193d9a02",
   "metadata": {},
   "outputs": [],
   "source": [
    "from abc import ABC, abstractmethod\n",
    "\n",
    "class Shape(ABC):\n",
    "    @abstractmethod\n",
    "    def area(self):\n",
    "        pass\n",
    "    \n",
    "    @abstractmethod\n",
    "    def perimeter(self):\n",
    "        pass\n",
    "\n",
    "class Rectangle(Shape):\n",
    "    def __init__(self, width, height):\n",
    "        self.width = width\n",
    "        self.height = height\n",
    "    \n",
    "    def area(self):\n",
    "        return self.width * self.height\n",
    "    \n",
    "    def perimeter(self):\n",
    "        return 2 * (self.width + self.height)\n"
   ]
  },
  {
   "cell_type": "code",
   "execution_count": 17,
   "id": "ee41546c-6587-4884-a006-0f90b4baa513",
   "metadata": {},
   "outputs": [
    {
     "data": {
      "text/plain": [
       "'Q5. Can we create an instance of an abstract class? Explain your answer.'"
      ]
     },
     "execution_count": 17,
     "metadata": {},
     "output_type": "execute_result"
    }
   ],
   "source": [
    "'''Q5. Can we create an instance of an abstract class? Explain your answer.'''"
   ]
  },
  {
   "cell_type": "code",
   "execution_count": 18,
   "id": "6f868bc5-b3a1-45f8-926d-53d6f3ce7cea",
   "metadata": {},
   "outputs": [
    {
     "data": {
      "text/plain": [
       "'No, we cannot create an instance of an abstract class. Abstract classes are meant to be subclasses that provide concrete implementations for the abstract methods defined in the abstract class. They serve as blueprints but cannot be instantiated directly. Attempting to create an instance of an abstract class will raise a TypeError.\\n\\nHere’s an example:'"
      ]
     },
     "execution_count": 18,
     "metadata": {},
     "output_type": "execute_result"
    }
   ],
   "source": [
    "'''No, we cannot create an instance of an abstract class. Abstract classes are meant to be subclasses that provide concrete implementations for the abstract methods defined in the abstract class. They serve as blueprints but cannot be instantiated directly. Attempting to create an instance of an abstract class will raise a TypeError.\n",
    "\n",
    "Here’s an example:'''"
   ]
  },
  {
   "cell_type": "code",
   "execution_count": 20,
   "id": "3c52c356-0006-43b9-9ace-094eca18a9b0",
   "metadata": {},
   "outputs": [],
   "source": [
    "from abc import ABC, abstractmethod\n",
    "\n",
    "class AbstractClass(ABC):\n",
    "    @abstractmethod\n",
    "    def do_something(self):\n",
    "        pass\n",
    "\n",
    "# This will raise an error:\n",
    "# instance = AbstractClass()\n"
   ]
  },
  {
   "cell_type": "code",
   "execution_count": null,
   "id": "7a0b3542-350a-4a4f-87da-8a67a65af2a1",
   "metadata": {},
   "outputs": [],
   "source": []
  }
 ],
 "metadata": {
  "kernelspec": {
   "display_name": "Python 3 (ipykernel)",
   "language": "python",
   "name": "python3"
  },
  "language_info": {
   "codemirror_mode": {
    "name": "ipython",
    "version": 3
   },
   "file_extension": ".py",
   "mimetype": "text/x-python",
   "name": "python",
   "nbconvert_exporter": "python",
   "pygments_lexer": "ipython3",
   "version": "3.10.8"
  }
 },
 "nbformat": 4,
 "nbformat_minor": 5
}
